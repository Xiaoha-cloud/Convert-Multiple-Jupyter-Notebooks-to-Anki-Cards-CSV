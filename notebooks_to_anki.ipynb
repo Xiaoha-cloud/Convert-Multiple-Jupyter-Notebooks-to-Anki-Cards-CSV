{
 "cells": [
  {
   "cell_type": "markdown",
   "metadata": {
    "pycharm": {
     "name": "#%% md\n"
    }
   },
   "source": [
    "# Convert Multiple Jupyter Notebooks to Anki Cards CSV\n",
    "This notebook reads multiple Jupyter Notebook files from a directory, extracts the content, and generates corresponding CSV files for Anki cards."
   ]
  },
  {
   "cell_type": "code",
   "execution_count": null,
   "metadata": {
    "pycharm": {
     "name": "#%%\n"
    }
   },
   "outputs": [],
   "source": [
    "import nbformat\n",
    "import pandas as pd\n",
    "import os"
   ]
  },
  {
   "cell_type": "markdown",
   "metadata": {
    "pycharm": {
     "name": "#%% md\n"
    }
   },
   "source": [
    "### Define function to process a single Jupyter Notebook file"
   ]
  },
  {
   "cell_type": "code",
   "execution_count": null,
   "metadata": {
    "pycharm": {
     "name": "#%%\n"
    }
   },
   "outputs": [],
   "source": [
    "def process_notebook(notebook_path):\n",
    "    with open(notebook_path, 'r', encoding='utf-8') as f:\n",
    "        nb = nbformat.read(f, as_version=4)\n",
    "\n",
    "    # Extract content\n",
    "    fronts = []\n",
    "    backs = []\n",
    "\n",
    "    # Initialize flags and text containers\n",
    "    in_intro = False\n",
    "    intro_text = \"\"\n",
    "    code_text = \"\"\n",
    "\n",
    "    for cell in nb.cells:\n",
    "        if cell.cell_type == 'markdown':\n",
    "            if not in_intro:\n",
    "                intro_text = cell.source\n",
    "                in_intro = True\n",
    "            else:\n",
    "                # Append front and back content\n",
    "                fronts.append(intro_text)\n",
    "                backs.append(code_text)\n",
    "                intro_text = cell.source\n",
    "                code_text = \"\"\n",
    "        elif cell.cell_type == 'code':\n",
    "            code_text += cell.source + '\\n'\n",
    "            if 'outputs' in cell:\n",
    "                for output in cell.outputs:\n",
    "                    if 'text' in output:\n",
    "                        code_text += ''.join(output['text']) + '\\n'\n",
    "\n",
    "    # Append the last set of front and back content\n",
    "    if intro_text and code_text:\n",
    "        fronts.append(intro_text)\n",
    "        backs.append(code_text)\n",
    "\n",
    "    # Create DataFrame\n",
    "    df = pd.DataFrame({\n",
    "        'Front': fronts,\n",
    "        'Back': backs\n",
    "    })\n",
    "\n",
    "    # Generate CSV file\n",
    "    csv_path = os.path.splitext(notebook_path)[0] + '_anki_cards.csv'\n",
    "    df.to_csv(csv_path, index=False)\n",
    "\n",
    "    print(f'Anki cards CSV file saved to: {csv_path}')"
   ]
  },
  {
   "cell_type": "markdown",
   "metadata": {
    "pycharm": {
     "name": "#%% md\n"
    }
   },
   "source": [
    "### Process all Jupyter Notebook files in a directory"
   ]
  },
  {
   "cell_type": "code",
   "execution_count": null,
   "metadata": {
    "pycharm": {
     "is_executing": true,
     "name": "#%%\n"
    }
   },
   "outputs": [],
   "source": [
    "# Specify the directory containing Jupyter Notebooks\n",
    "directory_path = 'path/to/your/notebooks'  # Replace with your directory path\n",
    "\n",
    "# Iterate through all .ipynb files in the directory\n",
    "for filename in os.listdir(directory_path):\n",
    "    if filename.endswith('.ipynb'):\n",
    "        notebook_path = os.path.join(directory_path, filename)\n",
    "        process_notebook(notebook_path)"
   ]
  }
 ],
 "metadata": {
  "kernelspec": {
   "display_name": "Python 3 (ipykernel)",
   "language": "python",
   "name": "python3"
  },
  "language_info": {
   "codemirror_mode": {
    "name": "ipython",
    "version": 3
   },
   "file_extension": ".py",
   "mimetype": "text/x-python",
   "name": "python",
   "nbconvert_exporter": "python",
   "pygments_lexer": "ipython3",
   "version": "3.9.0"
  }
 },
 "nbformat": 4,
 "nbformat_minor": 4
}
